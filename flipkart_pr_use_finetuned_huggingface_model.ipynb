{
  "nbformat": 4,
  "nbformat_minor": 0,
  "metadata": {
    "colab": {
      "provenance": []
    },
    "kernelspec": {
      "name": "python3",
      "display_name": "Python 3"
    },
    "language_info": {
      "name": "python"
    }
  },
  "cells": [
    {
      "cell_type": "markdown",
      "source": [
        "# Flipkart Customer Reviews\n",
        "\n",
        "Dataset Source: [Kaggle](https://www.kaggle.com/datasets/niraliivaghani/flipkart-product-customer-reviews-dataset)\n",
        "\n",
        "## <b>Sentiment Analysis</b>\n",
        "\n",
        "### <b><i>Using DistilBERT fine-tuned model for inference</i></b>\n",
        "\n",
        "<br><br><br>"
      ],
      "metadata": {
        "id": "x2LzH7NXXQtF"
      }
    },
    {
      "cell_type": "markdown",
      "source": [
        "## Libraries and Data"
      ],
      "metadata": {
        "id": "_0p1_fuQXf49"
      }
    },
    {
      "cell_type": "code",
      "source": [
        "# import locale\n",
        "# locale.getpreferredencoding = lambda: \"UTF-8\"\n",
        "!pip install datasets transformers\n"
      ],
      "metadata": {
        "id": "nmlsNPFrQ5E3"
      },
      "execution_count": null,
      "outputs": []
    },
    {
      "cell_type": "code",
      "source": [
        "from transformers import pipeline"
      ],
      "metadata": {
        "id": "7F-YqvSDTHab"
      },
      "execution_count": null,
      "outputs": []
    },
    {
      "cell_type": "markdown",
      "source": [
        "## Download/Load model"
      ],
      "metadata": {
        "id": "MugRRZAGXnCt"
      }
    },
    {
      "cell_type": "code",
      "execution_count": null,
      "metadata": {
        "id": "1ZbBi8o3QwKA"
      },
      "outputs": [],
      "source": [
        "\n",
        "model_finetuned = pipeline(model=\"prajwalkhairnar/distilbert_finetuned_flipkart_product_reviews_kaggle\")\n"
      ]
    },
    {
      "cell_type": "markdown",
      "source": [
        "## Define Function to use model"
      ],
      "metadata": {
        "id": "iMbvAUdYXuMO"
      }
    },
    {
      "cell_type": "code",
      "source": [
        "sentiment_map = {'LABEL_2': \"positive\",\n",
        "                 'LABEL_1': \"neutral\",\n",
        "                 'LABEL_0': \"negative\"}\n",
        "\n",
        "def use_model(input_text):\n",
        "  \n",
        "  outputs = model_finetuned(input_text)\n",
        "  outputs = [{'label': sentiment_map[key['label']], 'score': key['score']} for key in outputs]\n",
        "\n",
        "  return(outputs)"
      ],
      "metadata": {
        "id": "NEb7sosFT0-3"
      },
      "execution_count": null,
      "outputs": []
    },
    {
      "cell_type": "markdown",
      "source": [
        "## Use Model/Function"
      ],
      "metadata": {
        "id": "HlPqrFxSX0dm"
      }
    },
    {
      "cell_type": "code",
      "source": [
        "test_input = [\"I love this move\", \"This movie is just so bad!\", \"okay\"]\n",
        "\n",
        "use_model(test_input)"
      ],
      "metadata": {
        "colab": {
          "base_uri": "https://localhost:8080/"
        },
        "id": "rAVxCiJBUM6l",
        "outputId": "b4e6714f-d574-4664-b7a8-6bd15295974b"
      },
      "execution_count": null,
      "outputs": [
        {
          "output_type": "execute_result",
          "data": {
            "text/plain": [
              "[{'label': 'positive', 'score': 0.999225378036499},\n",
              " {'label': 'negative', 'score': 0.9994316697120667},\n",
              " {'label': 'neutral', 'score': 0.9128064513206482}]"
            ]
          },
          "metadata": {},
          "execution_count": 28
        }
      ]
    },
    {
      "cell_type": "code",
      "source": [],
      "metadata": {
        "id": "W4ELASneUM1N"
      },
      "execution_count": null,
      "outputs": []
    }
  ]
}